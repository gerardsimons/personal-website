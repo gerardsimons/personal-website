{
 "cells": [
  {
   "cell_type": "code",
   "execution_count": null,
   "metadata": {},
   "outputs": [],
   "source": [
    "!ls ../content/snippets/*.csv"
   ]
  },
  {
   "cell_type": "code",
   "execution_count": null,
   "metadata": {},
   "outputs": [],
   "source": [
    "import pandas as pd\n",
    "\n",
    "process_results = pd.read_csv(\"../content/snippets/process.csv\")\n",
    "thread_results = pd.read_csv(\"../content/snippets/thread.csv\")\n",
    "\n"
   ]
  },
  {
   "cell_type": "code",
   "execution_count": null,
   "metadata": {},
   "outputs": [],
   "source": [
    "start_p = process_results['start_time'].min()\n",
    "start_t = thread_results['start_time'].min()\n",
    "\n",
    "print(start_p, start_t)"
   ]
  },
  {
   "cell_type": "code",
   "execution_count": null,
   "metadata": {},
   "outputs": [],
   "source": [
    "process_results['start_time'] -= start_p\n",
    "process_results['end_time'] -= start_p\n",
    "process_results\n",
    "\n"
   ]
  },
  {
   "cell_type": "code",
   "execution_count": null,
   "metadata": {},
   "outputs": [],
   "source": [
    "thread_results['start_time'] -= start_t\n",
    "thread_results['end_time'] -= start_t\n",
    "thread_results['start_time']"
   ]
  },
  {
   "cell_type": "code",
   "execution_count": null,
   "metadata": {},
   "outputs": [],
   "source": [
    "data_points = [dict(Task=x['tag'], \n",
    "                    Start=x['start_time'],\n",
    "                    Finish=x['end_time'], Resource=\"Process\") for (_,x) in process_results.iterrows()]\n",
    "\n",
    "data_points.extend([dict(Task=x['tag'], \n",
    "                    Start=x['start_time'],\n",
    "                    Finish=x['end_time'], Resource=\"Thread\") for (_,x) in thread_results.iterrows()])\n",
    "\n",
    "data_points = sorted(data_points, key=lambda x : x[\"Start\"], reverse=True)\n",
    "\n",
    "colors = dict(Process='rgb(220, 0, 0)', Thread='rgb(170, 14, 200)')\n",
    "\n"
   ]
  },
  {
   "cell_type": "code",
   "execution_count": null,
   "metadata": {},
   "outputs": [],
   "source": [
    "data_points"
   ]
  },
  {
   "cell_type": "code",
   "execution_count": null,
   "metadata": {},
   "outputs": [],
   "source": [
    "fig = ff.create_gantt(data_points, \n",
    "                      index_col='Resource', show_colorbar=True)\n",
    "fig.show()"
   ]
  },
  {
   "cell_type": "code",
   "execution_count": null,
   "metadata": {},
   "outputs": [],
   "source": [
    "def plot_times(process_csv, threads_csv):\n",
    "    \n",
    "    # Read the CSVs\n",
    "    process_results = pd.read_csv(process_csv)\n",
    "    thread_results = pd.read_csv(threads_csv)\n",
    "    \n",
    "    # Get the min start times\n",
    "    start_p = process_results['start_time'].min()\n",
    "    start_t = thread_results['start_time'].min()\n",
    "    \n",
    "    # Normalize for this start time as each pool started at a different time\n",
    "    process_results['start_time'] -= start_p\n",
    "    process_results['end_time'] -= start_p\n",
    "    process_results\n",
    "\n",
    "    thread_results['start_time'] -= start_t\n",
    "    thread_results['end_time'] -= start_t\n",
    "    thread_results['start_time']\n",
    "    \n",
    "    # Create plotly data points \n",
    "    data_points = [dict(Task=x['tag'], \n",
    "                    Start=x['start_time'],\n",
    "                    Finish=x['end_time'], Resource=\"Process\") for (_,x) in process_results.iterrows()]\n",
    "\n",
    "    data_points.extend([dict(Task=x['tag'], \n",
    "                        Start=x['start_time'],\n",
    "                        Finish=x['end_time'], Resource=\"Thread\") for (_,x) in thread_results.iterrows()])\n",
    "\n",
    "    data_points = sorted(data_points, key=lambda x : x[\"Start\"], reverse=True)\n",
    "\n",
    "    colors = dict(Process='rgb(220, 0, 0)', Thread='rgb(170, 14, 200)')\n",
    "    \n",
    "    # Plot it!\n",
    "    fig = ff.create_gantt(data_points, \n",
    "                      index_col='Resource', show_colorbar=True)\n",
    "    fig.show()\n",
    "    "
   ]
  },
  {
   "cell_type": "code",
   "execution_count": null,
   "metadata": {},
   "outputs": [],
   "source": [
    "import pandas as pd\n",
    "\n",
    "plot_times(\"../content/snippets/process-get.csv\", \"../content/snippets/thread-get.csv\")"
   ]
  },
  {
   "cell_type": "code",
   "execution_count": null,
   "metadata": {},
   "outputs": [],
   "source": []
  }
 ],
 "metadata": {
  "kernelspec": {
   "display_name": "Python 3",
   "language": "python",
   "name": "python3"
  },
  "language_info": {
   "codemirror_mode": {
    "name": "ipython",
    "version": 3
   },
   "file_extension": ".py",
   "mimetype": "text/x-python",
   "name": "python",
   "nbconvert_exporter": "python",
   "pygments_lexer": "ipython3",
   "version": "3.6.10"
  }
 },
 "nbformat": 4,
 "nbformat_minor": 2
}
